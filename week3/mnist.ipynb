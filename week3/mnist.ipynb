{
  "nbformat": 4,
  "nbformat_minor": 0,
  "metadata": {
    "colab": {
      "name": "trivedi_hw3.ipynb",
      "version": "0.3.2",
      "provenance": [],
      "collapsed_sections": []
    },
    "kernelspec": {
      "name": "python2",
      "display_name": "Python 2"
    },
    "accelerator": "GPU"
  },
  "cells": [
    {
      "metadata": {
        "id": "tgZ6VP-_gZfk",
        "colab_type": "text"
      },
      "cell_type": "markdown",
      "source": [
        "# MNIST\n",
        "Tanay Trivedi"
      ]
    },
    {
      "metadata": {
        "id": "wptit1j1gZfn",
        "colab_type": "code",
        "colab": {}
      },
      "cell_type": "code",
      "source": [
        "import tensorflow as tf\n",
        "import numpy as np"
      ],
      "execution_count": 0,
      "outputs": []
    },
    {
      "metadata": {
        "id": "V6ro5FHegZf1",
        "colab_type": "text"
      },
      "cell_type": "markdown",
      "source": [
        "## Data"
      ]
    },
    {
      "metadata": {
        "id": "cGNA9xGjgZf4",
        "colab_type": "code",
        "colab": {
          "base_uri": "https://localhost:8080/",
          "height": 86
        },
        "outputId": "9cef6b2b-ca37-4194-9636-996981bf31a5"
      },
      "cell_type": "code",
      "source": [
        "mnist = tf.contrib.learn.datasets.load_dataset(\"mnist\")\n",
        "\n",
        "x_train = mnist.train.images # Returns np.array\n",
        "y_train = np.asarray(mnist.train.labels, dtype=np.int32)\n",
        "x_test = mnist.test.images # Returns np.array\n",
        "y_test = np.asarray(mnist.test.labels, dtype=np.int32)"
      ],
      "execution_count": 13,
      "outputs": [
        {
          "output_type": "stream",
          "text": [
            "Extracting MNIST-data/train-images-idx3-ubyte.gz\n",
            "Extracting MNIST-data/train-labels-idx1-ubyte.gz\n",
            "Extracting MNIST-data/t10k-images-idx3-ubyte.gz\n",
            "Extracting MNIST-data/t10k-labels-idx1-ubyte.gz\n"
          ],
          "name": "stdout"
        }
      ]
    },
    {
      "metadata": {
        "id": "9R24ERjygZgG",
        "colab_type": "text"
      },
      "cell_type": "markdown",
      "source": [
        "Create validation set..."
      ]
    },
    {
      "metadata": {
        "id": "EIvj_jAKgZgJ",
        "colab_type": "code",
        "colab": {}
      },
      "cell_type": "code",
      "source": [
        "valSetSize = .1 \n",
        "valIdx = int((1-valSetSize)*len(x_train))\n",
        "\n",
        "x_val = x_train[valIdx:]\n",
        "y_val = y_train[valIdx:]\n",
        "x_train = x_train[:valIdx]\n",
        "y_train = y_train[:valIdx]"
      ],
      "execution_count": 0,
      "outputs": []
    },
    {
      "metadata": {
        "id": "zLoX0YnmgZgR",
        "colab_type": "text"
      },
      "cell_type": "markdown",
      "source": [
        "## Base Configuration"
      ]
    },
    {
      "metadata": {
        "id": "zsUDxAS2gZgT",
        "colab_type": "code",
        "colab": {}
      },
      "cell_type": "code",
      "source": [
        "def cnn_model_fn(features, labels, mode): \n",
        "  #base configuration courtesy of  https://www.tensorflow.org/tutorials/\n",
        "    input_layer = tf.reshape(features[\"x\"], [-1, 28, 28, 1])\n",
        "\n",
        "    conv1 = tf.layers.conv2d(\n",
        "      inputs=input_layer,\n",
        "      filters=8,\n",
        "      kernel_size=[5, 5],\n",
        "      padding=\"same\",\n",
        "      activation=tf.nn.relu)\n",
        "    pool1 = tf.layers.max_pooling2d(inputs=conv1, pool_size=[2, 2], strides=2)\n",
        "\n",
        "    conv2 = tf.layers.conv2d(\n",
        "      inputs=pool1,\n",
        "      filters=8,\n",
        "      kernel_size=[4, 4],\n",
        "      padding=\"same\",\n",
        "      activation=tf.nn.relu)\n",
        "    pool2 = tf.layers.max_pooling2d(inputs=conv2, pool_size=[2, 2], strides=2)\n",
        "    \n",
        "    pool2_flat = tf.reshape(pool2, [-1, 7 * 7 * 8])\n",
        "    dense = tf.layers.dense(inputs=pool2_flat, units=5, activation=tf.nn.relu)\n",
        "    dropout = tf.layers.dropout(\n",
        "      inputs=dense, rate=0.4, training=mode == tf.estimator.ModeKeys.TRAIN)\n",
        "    logits = tf.layers.dense(inputs=dropout, units=10)\n",
        "\n",
        "    predictions = {\n",
        "      \"classes\": tf.argmax(input=logits, axis=1),\n",
        "      \"probabilities\": tf.nn.softmax(logits, name=\"softmax_tensor\")\n",
        "    }\n",
        "    if mode == tf.estimator.ModeKeys.PREDICT:\n",
        "        return tf.estimator.EstimatorSpec(mode=mode, predictions=predictions)\n",
        "    loss = tf.losses.sparse_softmax_cross_entropy(labels=labels, logits=logits)\n",
        "\n",
        "    if mode == tf.estimator.ModeKeys.TRAIN:\n",
        "        optimizer = tf.train.GradientDescentOptimizer(learning_rate=0.001)\n",
        "        train_op = optimizer.minimize(\n",
        "            loss=loss,\n",
        "            global_step=tf.train.get_global_step())\n",
        "        return tf.estimator.EstimatorSpec(mode=mode, loss=loss, train_op=train_op)\n",
        "    eval_metric_ops = {\n",
        "      \"accuracy\": tf.metrics.accuracy(\n",
        "          labels=labels, predictions=predictions[\"classes\"])}\n",
        "    return tf.estimator.EstimatorSpec(\n",
        "      mode=mode, loss=loss, eval_metric_ops=eval_metric_ops)"
      ],
      "execution_count": 0,
      "outputs": []
    },
    {
      "metadata": {
        "id": "CrlNPUbegZgZ",
        "colab_type": "code",
        "colab": {}
      },
      "cell_type": "code",
      "source": [
        "config=tf.estimator.RunConfig(log_step_count_steps=1000)\n",
        "\n",
        "mnist_classifier = tf.estimator.Estimator(\n",
        "    model_fn=cnn_model_fn,config=config)"
      ],
      "execution_count": 0,
      "outputs": []
    },
    {
      "metadata": {
        "id": "244932gegZgt",
        "colab_type": "code",
        "colab": {
          "base_uri": "https://localhost:8080/",
          "height": 1007
        },
        "outputId": "2d1e2724-5dc1-4c4d-b9be-a35ff114cd95"
      },
      "cell_type": "code",
      "source": [
        "train_input_fn = tf.estimator.inputs.numpy_input_fn(\n",
        "    x={\"x\": x_train},\n",
        "    y=y_train,\n",
        "    batch_size=100,\n",
        "    num_epochs=None,\n",
        "    shuffle=True)\n",
        "mnist_classifier.train(\n",
        "    input_fn=train_input_fn,\n",
        "    steps=20000);"
      ],
      "execution_count": 7,
      "outputs": [
        {
          "output_type": "stream",
          "text": [
            "WARNING:tensorflow:From /usr/local/lib/python2.7/dist-packages/tensorflow/python/estimator/inputs/queues/feeding_queue_runner.py:62: __init__ (from tensorflow.python.training.queue_runner_impl) is deprecated and will be removed in a future version.\n",
            "Instructions for updating:\n",
            "To construct input pipelines, use the `tf.data` module.\n",
            "WARNING:tensorflow:From /usr/local/lib/python2.7/dist-packages/tensorflow/python/estimator/inputs/queues/feeding_functions.py:500: add_queue_runner (from tensorflow.python.training.queue_runner_impl) is deprecated and will be removed in a future version.\n",
            "Instructions for updating:\n",
            "To construct input pipelines, use the `tf.data` module.\n",
            "INFO:tensorflow:Calling model_fn.\n",
            "INFO:tensorflow:Done calling model_fn.\n",
            "INFO:tensorflow:Create CheckpointSaverHook.\n",
            "INFO:tensorflow:Graph was finalized.\n",
            "INFO:tensorflow:Running local_init_op.\n",
            "INFO:tensorflow:Done running local_init_op.\n",
            "WARNING:tensorflow:From /usr/local/lib/python2.7/dist-packages/tensorflow/python/training/monitored_session.py:804: start_queue_runners (from tensorflow.python.training.queue_runner_impl) is deprecated and will be removed in a future version.\n",
            "Instructions for updating:\n",
            "To construct input pipelines, use the `tf.data` module.\n",
            "INFO:tensorflow:Saving checkpoints for 0 into /tmp/tmpFyrjw0/model.ckpt.\n",
            "INFO:tensorflow:loss = 2.2942145, step = 0\n",
            "INFO:tensorflow:global_step/sec: 175.717\n",
            "INFO:tensorflow:loss = 2.239706, step = 1000 (5.697 sec)\n",
            "INFO:tensorflow:global_step/sec: 186.885\n",
            "INFO:tensorflow:loss = 2.195702, step = 2000 (5.348 sec)\n",
            "INFO:tensorflow:global_step/sec: 182.431\n",
            "INFO:tensorflow:loss = 2.0860047, step = 3000 (5.484 sec)\n",
            "INFO:tensorflow:global_step/sec: 184.07\n",
            "INFO:tensorflow:loss = 2.1139343, step = 4000 (5.431 sec)\n",
            "INFO:tensorflow:global_step/sec: 182.757\n",
            "INFO:tensorflow:loss = 1.9096022, step = 5000 (5.473 sec)\n",
            "INFO:tensorflow:global_step/sec: 182.013\n",
            "INFO:tensorflow:loss = 1.8122586, step = 6000 (5.493 sec)\n",
            "INFO:tensorflow:global_step/sec: 183.651\n",
            "INFO:tensorflow:loss = 1.82822, step = 7000 (5.448 sec)\n",
            "INFO:tensorflow:global_step/sec: 184.723\n",
            "INFO:tensorflow:loss = 1.7043184, step = 8000 (5.413 sec)\n",
            "INFO:tensorflow:global_step/sec: 185.693\n",
            "INFO:tensorflow:loss = 1.6074837, step = 9000 (5.385 sec)\n",
            "INFO:tensorflow:global_step/sec: 179.589\n",
            "INFO:tensorflow:loss = 1.7576667, step = 10000 (5.564 sec)\n",
            "INFO:tensorflow:global_step/sec: 177.449\n",
            "INFO:tensorflow:loss = 1.4760083, step = 11000 (5.635 sec)\n",
            "INFO:tensorflow:global_step/sec: 184.928\n",
            "INFO:tensorflow:loss = 1.6183407, step = 12000 (5.408 sec)\n",
            "INFO:tensorflow:global_step/sec: 184.221\n",
            "INFO:tensorflow:loss = 1.6367626, step = 13000 (5.430 sec)\n",
            "INFO:tensorflow:global_step/sec: 184.8\n",
            "INFO:tensorflow:loss = 1.4902513, step = 14000 (5.413 sec)\n",
            "INFO:tensorflow:global_step/sec: 186.47\n",
            "INFO:tensorflow:loss = 1.4262153, step = 15000 (5.359 sec)\n",
            "INFO:tensorflow:global_step/sec: 183.737\n",
            "INFO:tensorflow:loss = 1.3910092, step = 16000 (5.446 sec)\n",
            "INFO:tensorflow:global_step/sec: 181.546\n",
            "INFO:tensorflow:loss = 1.4943125, step = 17000 (5.509 sec)\n",
            "INFO:tensorflow:global_step/sec: 181.631\n",
            "INFO:tensorflow:loss = 1.2600219, step = 18000 (5.502 sec)\n",
            "INFO:tensorflow:global_step/sec: 190.499\n",
            "INFO:tensorflow:loss = 1.3364012, step = 19000 (5.248 sec)\n",
            "INFO:tensorflow:Saving checkpoints for 20000 into /tmp/tmpFyrjw0/model.ckpt.\n",
            "INFO:tensorflow:Loss for final step: 1.4193064.\n"
          ],
          "name": "stdout"
        }
      ]
    },
    {
      "metadata": {
        "id": "n5GlUE3ogZg4",
        "colab_type": "text"
      },
      "cell_type": "markdown",
      "source": [
        "### Validation"
      ]
    },
    {
      "metadata": {
        "id": "OxAZ7Wh0gZg6",
        "colab_type": "code",
        "colab": {
          "base_uri": "https://localhost:8080/",
          "height": 208
        },
        "outputId": "e1c3ce1b-c94d-4b74-bc27-4e0a61d9f1ed"
      },
      "cell_type": "code",
      "source": [
        "val_input_fn = tf.estimator.inputs.numpy_input_fn(\n",
        "    x={\"x\": x_val},\n",
        "    y=y_val,\n",
        "    num_epochs=1,\n",
        "    shuffle=False)\n",
        "val_results = mnist_classifier.evaluate(input_fn=val_input_fn)\n",
        "print(val_results)"
      ],
      "execution_count": 8,
      "outputs": [
        {
          "output_type": "stream",
          "text": [
            "INFO:tensorflow:Calling model_fn.\n",
            "INFO:tensorflow:Done calling model_fn.\n",
            "INFO:tensorflow:Starting evaluation at 2018-09-26-16:29:49\n",
            "INFO:tensorflow:Graph was finalized.\n",
            "INFO:tensorflow:Restoring parameters from /tmp/tmpFyrjw0/model.ckpt-20000\n",
            "INFO:tensorflow:Running local_init_op.\n",
            "INFO:tensorflow:Done running local_init_op.\n",
            "INFO:tensorflow:Finished evaluation at 2018-09-26-16:29:50\n",
            "INFO:tensorflow:Saving dict for global step 20000: accuracy = 0.8401818, global_step = 20000, loss = 0.8459055\n",
            "INFO:tensorflow:Saving 'checkpoint_path' summary for global step 20000: /tmp/tmpFyrjw0/model.ckpt-20000\n",
            "{'loss': 0.8459055, 'global_step': 20000, 'accuracy': 0.8401818}\n"
          ],
          "name": "stdout"
        }
      ]
    },
    {
      "metadata": {
        "id": "LT4Qgdlmt-W9",
        "colab_type": "text"
      },
      "cell_type": "markdown",
      "source": [
        "## Increase Dense Layer Size"
      ]
    },
    {
      "metadata": {
        "id": "aOs_ubFnrMtU",
        "colab_type": "code",
        "colab": {}
      },
      "cell_type": "code",
      "source": [
        "def cnn_model_fn_1(features, labels, mode):\n",
        "    input_layer = tf.reshape(features[\"x\"], [-1, 28, 28, 1])\n",
        "\n",
        "    conv1 = tf.layers.conv2d(\n",
        "      inputs=input_layer,\n",
        "      filters=8,\n",
        "      kernel_size=[5, 5],\n",
        "      padding=\"same\",\n",
        "      activation=tf.nn.relu)\n",
        "    pool1 = tf.layers.max_pooling2d(inputs=conv1, pool_size=[2, 2], strides=2)\n",
        "\n",
        "    conv2 = tf.layers.conv2d(\n",
        "      inputs=pool1,\n",
        "      filters=8,\n",
        "      kernel_size=[5, 5],\n",
        "      padding=\"same\",\n",
        "      activation=tf.nn.relu)\n",
        "    pool2 = tf.layers.max_pooling2d(inputs=conv2, pool_size=[2, 2], strides=2)\n",
        "\n",
        "    pool2_flat = tf.reshape(pool2, [-1, 7 * 7 * 8])\n",
        "    dense = tf.layers.dense(inputs=pool2_flat, units=10, activation=tf.nn.relu)\n",
        "    dropout = tf.layers.dropout(\n",
        "      inputs=dense, rate=0.4, training=mode == tf.estimator.ModeKeys.TRAIN)\n",
        "\n",
        "    logits = tf.layers.dense(inputs=dropout, units=10)\n",
        "\n",
        "    predictions = {\n",
        "      \"classes\": tf.argmax(input=logits, axis=1),\n",
        "      \"probabilities\": tf.nn.softmax(logits, name=\"softmax_tensor\")\n",
        "    }\n",
        "\n",
        "    if mode == tf.estimator.ModeKeys.PREDICT:\n",
        "        return tf.estimator.EstimatorSpec(mode=mode, predictions=predictions)\n",
        "    loss = tf.losses.sparse_softmax_cross_entropy(labels=labels, logits=logits)\n",
        "\n",
        "    if mode == tf.estimator.ModeKeys.TRAIN:\n",
        "        optimizer = tf.train.GradientDescentOptimizer(learning_rate=0.001)\n",
        "        train_op = optimizer.minimize(\n",
        "            loss=loss,\n",
        "            global_step=tf.train.get_global_step())\n",
        "        return tf.estimator.EstimatorSpec(mode=mode, loss=loss, train_op=train_op)\n",
        "\n",
        "    eval_metric_ops = {\n",
        "      \"accuracy\": tf.metrics.accuracy(\n",
        "          labels=labels, predictions=predictions[\"classes\"])}\n",
        "    return tf.estimator.EstimatorSpec(\n",
        "      mode=mode, loss=loss, eval_metric_ops=eval_metric_ops)"
      ],
      "execution_count": 0,
      "outputs": []
    },
    {
      "metadata": {
        "id": "g7GbQWMSuSlt",
        "colab_type": "code",
        "colab": {
          "base_uri": "https://localhost:8080/",
          "height": 1166
        },
        "outputId": "8872fa39-5521-4bf6-9ffe-671b49a9f06a"
      },
      "cell_type": "code",
      "source": [
        "config1=tf.estimator.RunConfig(log_step_count_steps=1000)\n",
        "\n",
        "mnist_classifier1 = tf.estimator.Estimator(\n",
        "    model_fn=cnn_model_fn_1,config=config1)\n",
        "\n",
        "train_input_fn_1 = tf.estimator.inputs.numpy_input_fn(\n",
        "    x={\"x\": x_train},\n",
        "    y=y_train,\n",
        "    batch_size=100,\n",
        "    num_epochs=None,\n",
        "    shuffle=True)\n",
        "mnist_classifier1.train(\n",
        "    input_fn=train_input_fn_1,\n",
        "    steps=20000);"
      ],
      "execution_count": 6,
      "outputs": [
        {
          "output_type": "stream",
          "text": [
            "WARNING:tensorflow:Using temporary folder as model directory: /tmp/tmpFfn7NH\n",
            "INFO:tensorflow:Using config: {'_save_checkpoints_secs': 600, '_num_ps_replicas': 0, '_keep_checkpoint_max': 5, '_task_type': 'worker', '_global_id_in_cluster': 0, '_is_chief': True, '_cluster_spec': <tensorflow.python.training.server_lib.ClusterSpec object at 0x7f0dfe9a3c10>, '_model_dir': '/tmp/tmpFfn7NH', '_protocol': None, '_save_checkpoints_steps': None, '_keep_checkpoint_every_n_hours': 10000, '_service': None, '_session_config': allow_soft_placement: true\n",
            "graph_options {\n",
            "  rewrite_options {\n",
            "    meta_optimizer_iterations: ONE\n",
            "  }\n",
            "}\n",
            ", '_tf_random_seed': None, '_save_summary_steps': 100, '_device_fn': None, '_experimental_distribute': None, '_num_worker_replicas': 1, '_task_id': 0, '_log_step_count_steps': 1000, '_evaluation_master': '', '_eval_distribute': None, '_train_distribute': None, '_master': ''}\n",
            "WARNING:tensorflow:From /usr/local/lib/python2.7/dist-packages/tensorflow/python/estimator/inputs/queues/feeding_queue_runner.py:62: __init__ (from tensorflow.python.training.queue_runner_impl) is deprecated and will be removed in a future version.\n",
            "Instructions for updating:\n",
            "To construct input pipelines, use the `tf.data` module.\n",
            "WARNING:tensorflow:From /usr/local/lib/python2.7/dist-packages/tensorflow/python/estimator/inputs/queues/feeding_functions.py:500: add_queue_runner (from tensorflow.python.training.queue_runner_impl) is deprecated and will be removed in a future version.\n",
            "Instructions for updating:\n",
            "To construct input pipelines, use the `tf.data` module.\n",
            "INFO:tensorflow:Calling model_fn.\n",
            "INFO:tensorflow:Done calling model_fn.\n",
            "INFO:tensorflow:Create CheckpointSaverHook.\n",
            "INFO:tensorflow:Graph was finalized.\n",
            "INFO:tensorflow:Running local_init_op.\n",
            "INFO:tensorflow:Done running local_init_op.\n",
            "WARNING:tensorflow:From /usr/local/lib/python2.7/dist-packages/tensorflow/python/training/monitored_session.py:804: start_queue_runners (from tensorflow.python.training.queue_runner_impl) is deprecated and will be removed in a future version.\n",
            "Instructions for updating:\n",
            "To construct input pipelines, use the `tf.data` module.\n",
            "INFO:tensorflow:Saving checkpoints for 0 into /tmp/tmpFfn7NH/model.ckpt.\n",
            "INFO:tensorflow:loss = 2.3281124, step = 0\n",
            "INFO:tensorflow:global_step/sec: 167.394\n",
            "INFO:tensorflow:loss = 2.2681942, step = 1000 (5.981 sec)\n",
            "INFO:tensorflow:global_step/sec: 176.09\n",
            "INFO:tensorflow:loss = 2.2641137, step = 2000 (5.674 sec)\n",
            "INFO:tensorflow:global_step/sec: 183.122\n",
            "INFO:tensorflow:loss = 2.1768682, step = 3000 (5.465 sec)\n",
            "INFO:tensorflow:global_step/sec: 181.627\n",
            "INFO:tensorflow:loss = 2.0342515, step = 4000 (5.502 sec)\n",
            "INFO:tensorflow:global_step/sec: 182.841\n",
            "INFO:tensorflow:loss = 1.9274188, step = 5000 (5.472 sec)\n",
            "INFO:tensorflow:global_step/sec: 182.328\n",
            "INFO:tensorflow:loss = 1.8562928, step = 6000 (5.486 sec)\n",
            "INFO:tensorflow:global_step/sec: 182.873\n",
            "INFO:tensorflow:loss = 1.8607459, step = 7000 (5.468 sec)\n",
            "INFO:tensorflow:global_step/sec: 181.629\n",
            "INFO:tensorflow:loss = 1.8495446, step = 8000 (5.504 sec)\n",
            "INFO:tensorflow:global_step/sec: 181.292\n",
            "INFO:tensorflow:loss = 1.7103789, step = 9000 (5.518 sec)\n",
            "INFO:tensorflow:global_step/sec: 181.457\n",
            "INFO:tensorflow:loss = 1.8027488, step = 10000 (5.506 sec)\n",
            "INFO:tensorflow:global_step/sec: 177.64\n",
            "INFO:tensorflow:loss = 1.6293151, step = 11000 (5.633 sec)\n",
            "INFO:tensorflow:global_step/sec: 183.292\n",
            "INFO:tensorflow:loss = 1.422752, step = 12000 (5.454 sec)\n",
            "INFO:tensorflow:global_step/sec: 180.011\n",
            "INFO:tensorflow:loss = 1.4605961, step = 13000 (5.554 sec)\n",
            "INFO:tensorflow:global_step/sec: 179.916\n",
            "INFO:tensorflow:loss = 1.4988403, step = 14000 (5.560 sec)\n",
            "INFO:tensorflow:global_step/sec: 179.281\n",
            "INFO:tensorflow:loss = 1.3464558, step = 15000 (5.576 sec)\n",
            "INFO:tensorflow:global_step/sec: 180.305\n",
            "INFO:tensorflow:loss = 1.437755, step = 16000 (5.549 sec)\n",
            "INFO:tensorflow:global_step/sec: 179.994\n",
            "INFO:tensorflow:loss = 1.5582385, step = 17000 (5.555 sec)\n",
            "INFO:tensorflow:global_step/sec: 179.411\n",
            "INFO:tensorflow:loss = 1.4582744, step = 18000 (5.576 sec)\n",
            "INFO:tensorflow:global_step/sec: 179.403\n",
            "INFO:tensorflow:loss = 1.183971, step = 19000 (5.573 sec)\n",
            "INFO:tensorflow:Saving checkpoints for 20000 into /tmp/tmpFfn7NH/model.ckpt.\n",
            "INFO:tensorflow:Loss for final step: 1.3394958.\n"
          ],
          "name": "stdout"
        }
      ]
    },
    {
      "metadata": {
        "id": "Ethk36A1v2UA",
        "colab_type": "text"
      },
      "cell_type": "markdown",
      "source": [
        "### Validation"
      ]
    },
    {
      "metadata": {
        "id": "ijgf9B7Iv44A",
        "colab_type": "code",
        "colab": {
          "base_uri": "https://localhost:8080/",
          "height": 208
        },
        "outputId": "67ae8176-4046-476b-8ffd-d973e7f13661"
      },
      "cell_type": "code",
      "source": [
        "val_input_fn = tf.estimator.inputs.numpy_input_fn(\n",
        "    x={\"x\": x_val},\n",
        "    y=y_val,\n",
        "    num_epochs=1,\n",
        "    shuffle=False)\n",
        "val_results = mnist_classifier1.evaluate(input_fn=val_input_fn)\n",
        "print(val_results)"
      ],
      "execution_count": 7,
      "outputs": [
        {
          "output_type": "stream",
          "text": [
            "INFO:tensorflow:Calling model_fn.\n",
            "INFO:tensorflow:Done calling model_fn.\n",
            "INFO:tensorflow:Starting evaluation at 2018-09-26-16:40:00\n",
            "INFO:tensorflow:Graph was finalized.\n",
            "INFO:tensorflow:Restoring parameters from /tmp/tmpFfn7NH/model.ckpt-20000\n",
            "INFO:tensorflow:Running local_init_op.\n",
            "INFO:tensorflow:Done running local_init_op.\n",
            "INFO:tensorflow:Finished evaluation at 2018-09-26-16:40:00\n",
            "INFO:tensorflow:Saving dict for global step 20000: accuracy = 0.83454543, global_step = 20000, loss = 0.77351105\n",
            "INFO:tensorflow:Saving 'checkpoint_path' summary for global step 20000: /tmp/tmpFfn7NH/model.ckpt-20000\n",
            "{'loss': 0.77351105, 'global_step': 20000, 'accuracy': 0.83454543}\n"
          ],
          "name": "stdout"
        }
      ]
    },
    {
      "metadata": {
        "id": "YQP2do15wLdU",
        "colab_type": "text"
      },
      "cell_type": "markdown",
      "source": [
        "## Increase Dense Layer Again"
      ]
    },
    {
      "metadata": {
        "id": "lp7dKU29wO4U",
        "colab_type": "code",
        "colab": {}
      },
      "cell_type": "code",
      "source": [
        "def cnn_model_fn_2(features, labels, mode):\n",
        "    input_layer = tf.reshape(features[\"x\"], [-1, 28, 28, 1])\n",
        "\n",
        "    conv1 = tf.layers.conv2d(\n",
        "      inputs=input_layer,\n",
        "      filters=8,\n",
        "      kernel_size=[5, 5],\n",
        "      padding=\"same\",\n",
        "      activation=tf.nn.relu)\n",
        "\n",
        "    pool1 = tf.layers.max_pooling2d(inputs=conv1, pool_size=[2, 2], strides=2)\n",
        "\n",
        "    conv2 = tf.layers.conv2d(\n",
        "      inputs=pool1,\n",
        "      filters=8,\n",
        "      kernel_size=[5, 5],\n",
        "      padding=\"same\",\n",
        "      activation=tf.nn.relu)\n",
        "    pool2 = tf.layers.max_pooling2d(inputs=conv2, pool_size=[2, 2], strides=2)\n",
        "\n",
        "    pool2_flat = tf.reshape(pool2, [-1, 7 * 7 * 8])\n",
        "    dense = tf.layers.dense(inputs=pool2_flat, units=1000, activation=tf.nn.relu)\n",
        "    dropout = tf.layers.dropout(\n",
        "      inputs=dense, rate=0.4, training=mode == tf.estimator.ModeKeys.TRAIN)\n",
        "\n",
        "    logits = tf.layers.dense(inputs=dropout, units=10)\n",
        "\n",
        "    predictions = {\n",
        "      \"classes\": tf.argmax(input=logits, axis=1),\n",
        "      \"probabilities\": tf.nn.softmax(logits, name=\"softmax_tensor\")\n",
        "    }\n",
        "\n",
        "    if mode == tf.estimator.ModeKeys.PREDICT:\n",
        "        return tf.estimator.EstimatorSpec(mode=mode, predictions=predictions)\n",
        "\n",
        "    loss = tf.losses.sparse_softmax_cross_entropy(labels=labels, logits=logits)\n",
        "\n",
        "    if mode == tf.estimator.ModeKeys.TRAIN:\n",
        "        optimizer = tf.train.GradientDescentOptimizer(learning_rate=0.001)\n",
        "        train_op = optimizer.minimize(\n",
        "            loss=loss,\n",
        "            global_step=tf.train.get_global_step())\n",
        "        return tf.estimator.EstimatorSpec(mode=mode, loss=loss, train_op=train_op)\n",
        "\n",
        "    eval_metric_ops = {\n",
        "      \"accuracy\": tf.metrics.accuracy(\n",
        "          labels=labels, predictions=predictions[\"classes\"])}\n",
        "    return tf.estimator.EstimatorSpec(\n",
        "      mode=mode, loss=loss, eval_metric_ops=eval_metric_ops)"
      ],
      "execution_count": 0,
      "outputs": []
    },
    {
      "metadata": {
        "id": "zHlH6bOiwZxH",
        "colab_type": "code",
        "colab": {
          "base_uri": "https://localhost:8080/",
          "height": 1010
        },
        "outputId": "62cbee19-a647-40da-f72d-572449e27923"
      },
      "cell_type": "code",
      "source": [
        "config2=tf.estimator.RunConfig(log_step_count_steps=1000)\n",
        "\n",
        "mnist_classifier2 = tf.estimator.Estimator(\n",
        "    model_fn=cnn_model_fn_2,config=config2)\n",
        "\n",
        "train_input_fn_2 = tf.estimator.inputs.numpy_input_fn(\n",
        "    x={\"x\": x_train},\n",
        "    y=y_train,\n",
        "    batch_size=100,\n",
        "    num_epochs=None,\n",
        "    shuffle=True)\n",
        "mnist_classifier2.train(\n",
        "    input_fn=train_input_fn_2,\n",
        "    steps=20000);"
      ],
      "execution_count": 9,
      "outputs": [
        {
          "output_type": "stream",
          "text": [
            "WARNING:tensorflow:Using temporary folder as model directory: /tmp/tmpReGpgK\n",
            "INFO:tensorflow:Using config: {'_save_checkpoints_secs': 600, '_num_ps_replicas': 0, '_keep_checkpoint_max': 5, '_task_type': 'worker', '_global_id_in_cluster': 0, '_is_chief': True, '_cluster_spec': <tensorflow.python.training.server_lib.ClusterSpec object at 0x7f0dfa367f90>, '_model_dir': '/tmp/tmpReGpgK', '_protocol': None, '_save_checkpoints_steps': None, '_keep_checkpoint_every_n_hours': 10000, '_service': None, '_session_config': allow_soft_placement: true\n",
            "graph_options {\n",
            "  rewrite_options {\n",
            "    meta_optimizer_iterations: ONE\n",
            "  }\n",
            "}\n",
            ", '_tf_random_seed': None, '_save_summary_steps': 100, '_device_fn': None, '_experimental_distribute': None, '_num_worker_replicas': 1, '_task_id': 0, '_log_step_count_steps': 1000, '_evaluation_master': '', '_eval_distribute': None, '_train_distribute': None, '_master': ''}\n",
            "INFO:tensorflow:Calling model_fn.\n",
            "INFO:tensorflow:Done calling model_fn.\n",
            "INFO:tensorflow:Create CheckpointSaverHook.\n",
            "INFO:tensorflow:Graph was finalized.\n",
            "INFO:tensorflow:Running local_init_op.\n",
            "INFO:tensorflow:Done running local_init_op.\n",
            "INFO:tensorflow:Saving checkpoints for 0 into /tmp/tmpReGpgK/model.ckpt.\n",
            "INFO:tensorflow:loss = 2.322011, step = 0\n",
            "INFO:tensorflow:global_step/sec: 149.003\n",
            "INFO:tensorflow:loss = 2.1557796, step = 1000 (6.718 sec)\n",
            "INFO:tensorflow:global_step/sec: 151.075\n",
            "INFO:tensorflow:loss = 1.2891589, step = 2000 (6.617 sec)\n",
            "INFO:tensorflow:global_step/sec: 160.435\n",
            "INFO:tensorflow:loss = 0.6453035, step = 3000 (6.231 sec)\n",
            "INFO:tensorflow:global_step/sec: 159.588\n",
            "INFO:tensorflow:loss = 0.6674242, step = 4000 (6.265 sec)\n",
            "INFO:tensorflow:global_step/sec: 158.319\n",
            "INFO:tensorflow:loss = 0.6318938, step = 5000 (6.321 sec)\n",
            "INFO:tensorflow:global_step/sec: 157.092\n",
            "INFO:tensorflow:loss = 0.15142734, step = 6000 (6.365 sec)\n",
            "INFO:tensorflow:global_step/sec: 157.094\n",
            "INFO:tensorflow:loss = 0.29517254, step = 7000 (6.365 sec)\n",
            "INFO:tensorflow:global_step/sec: 159.656\n",
            "INFO:tensorflow:loss = 0.30779228, step = 8000 (6.263 sec)\n",
            "INFO:tensorflow:global_step/sec: 160.213\n",
            "INFO:tensorflow:loss = 0.26508555, step = 9000 (6.242 sec)\n",
            "INFO:tensorflow:global_step/sec: 157.936\n",
            "INFO:tensorflow:loss = 0.24905477, step = 10000 (6.332 sec)\n",
            "INFO:tensorflow:global_step/sec: 156.913\n",
            "INFO:tensorflow:loss = 0.37782615, step = 11000 (6.373 sec)\n",
            "INFO:tensorflow:global_step/sec: 156.517\n",
            "INFO:tensorflow:loss = 0.11913317, step = 12000 (6.388 sec)\n",
            "INFO:tensorflow:global_step/sec: 157.677\n",
            "INFO:tensorflow:loss = 0.18831916, step = 13000 (6.343 sec)\n",
            "INFO:tensorflow:global_step/sec: 160.239\n",
            "INFO:tensorflow:loss = 0.21558346, step = 14000 (6.238 sec)\n",
            "INFO:tensorflow:global_step/sec: 158.517\n",
            "INFO:tensorflow:loss = 0.20269956, step = 15000 (6.311 sec)\n",
            "INFO:tensorflow:global_step/sec: 157.955\n",
            "INFO:tensorflow:loss = 0.24911821, step = 16000 (6.329 sec)\n",
            "INFO:tensorflow:global_step/sec: 157.792\n",
            "INFO:tensorflow:loss = 0.22035752, step = 17000 (6.337 sec)\n",
            "INFO:tensorflow:global_step/sec: 156.563\n",
            "INFO:tensorflow:loss = 0.15047441, step = 18000 (6.391 sec)\n",
            "INFO:tensorflow:global_step/sec: 157.594\n",
            "INFO:tensorflow:loss = 0.24743237, step = 19000 (6.343 sec)\n",
            "INFO:tensorflow:Saving checkpoints for 20000 into /tmp/tmpReGpgK/model.ckpt.\n",
            "INFO:tensorflow:Loss for final step: 0.2760135.\n"
          ],
          "name": "stdout"
        }
      ]
    },
    {
      "metadata": {
        "id": "-Q7KdHIUxDbN",
        "colab_type": "text"
      },
      "cell_type": "markdown",
      "source": [
        "### Validation"
      ]
    },
    {
      "metadata": {
        "id": "CCtKtx_xxHIV",
        "colab_type": "code",
        "colab": {
          "base_uri": "https://localhost:8080/",
          "height": 208
        },
        "outputId": "4714c880-3b18-40e7-f5e3-2b9e0cc352aa"
      },
      "cell_type": "code",
      "source": [
        "val_input_fn = tf.estimator.inputs.numpy_input_fn(\n",
        "    x={\"x\": x_val},\n",
        "    y=y_val,\n",
        "    num_epochs=1,\n",
        "    shuffle=False)\n",
        "val_results = mnist_classifier2.evaluate(input_fn=val_input_fn)\n",
        "print(val_results)"
      ],
      "execution_count": 10,
      "outputs": [
        {
          "output_type": "stream",
          "text": [
            "INFO:tensorflow:Calling model_fn.\n",
            "INFO:tensorflow:Done calling model_fn.\n",
            "INFO:tensorflow:Starting evaluation at 2018-09-26-16:44:42\n",
            "INFO:tensorflow:Graph was finalized.\n",
            "INFO:tensorflow:Restoring parameters from /tmp/tmpReGpgK/model.ckpt-20000\n",
            "INFO:tensorflow:Running local_init_op.\n",
            "INFO:tensorflow:Done running local_init_op.\n",
            "INFO:tensorflow:Finished evaluation at 2018-09-26-16:44:42\n",
            "INFO:tensorflow:Saving dict for global step 20000: accuracy = 0.9681818, global_step = 20000, loss = 0.11163897\n",
            "INFO:tensorflow:Saving 'checkpoint_path' summary for global step 20000: /tmp/tmpReGpgK/model.ckpt-20000\n",
            "{'loss': 0.11163897, 'global_step': 20000, 'accuracy': 0.9681818}\n"
          ],
          "name": "stdout"
        }
      ]
    },
    {
      "metadata": {
        "id": "eJcfupTOgZhG",
        "colab_type": "text"
      },
      "cell_type": "markdown",
      "source": [
        "## Test"
      ]
    },
    {
      "metadata": {
        "id": "TjisbQedgZhJ",
        "colab_type": "code",
        "colab": {
          "base_uri": "https://localhost:8080/",
          "height": 208
        },
        "outputId": "1262844c-7015-43a9-b2e7-50095d1df6bc"
      },
      "cell_type": "code",
      "source": [
        "test_input_fn = tf.estimator.inputs.numpy_input_fn(\n",
        "    x = {\"x\": x_test},\n",
        "    y=y_test,\n",
        "    num_epochs=1,\n",
        "    shuffle=False)\n",
        "test_results = mnist_classifier2.evaluate(input_fn=test_input_fn)\n",
        "print(test_results)"
      ],
      "execution_count": 12,
      "outputs": [
        {
          "output_type": "stream",
          "text": [
            "INFO:tensorflow:Calling model_fn.\n",
            "INFO:tensorflow:Done calling model_fn.\n",
            "INFO:tensorflow:Starting evaluation at 2018-09-26-16:45:04\n",
            "INFO:tensorflow:Graph was finalized.\n",
            "INFO:tensorflow:Restoring parameters from /tmp/tmpReGpgK/model.ckpt-20000\n",
            "INFO:tensorflow:Running local_init_op.\n",
            "INFO:tensorflow:Done running local_init_op.\n",
            "INFO:tensorflow:Finished evaluation at 2018-09-26-16:45:04\n",
            "INFO:tensorflow:Saving dict for global step 20000: accuracy = 0.9622, global_step = 20000, loss = 0.12593603\n",
            "INFO:tensorflow:Saving 'checkpoint_path' summary for global step 20000: /tmp/tmpReGpgK/model.ckpt-20000\n",
            "{'loss': 0.12593603, 'global_step': 20000, 'accuracy': 0.9622}\n"
          ],
          "name": "stdout"
        }
      ]
    },
    {
      "metadata": {
        "id": "uNYLfo78gZhQ",
        "colab_type": "code",
        "colab": {}
      },
      "cell_type": "code",
      "source": [
        ""
      ],
      "execution_count": 0,
      "outputs": []
    }
  ]
}