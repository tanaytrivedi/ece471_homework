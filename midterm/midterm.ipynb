{
  "nbformat": 4,
  "nbformat_minor": 0,
  "metadata": {
    "colab": {
      "name": "cgml_midterm_batch128_3_day",
      "version": "0.3.2",
      "provenance": [],
      "collapsed_sections": []
    },
    "kernelspec": {
      "name": "python3",
      "display_name": "Python 3"
    },
    "accelerator": "GPU"
  },
  "cells": [
    {
      "metadata": {
        "id": "ATpiwJxc49AC",
        "colab_type": "text"
      },
      "cell_type": "markdown",
      "source": [
        "# Thresholded CNNs for Forecasting S&P500 Returns\n",
        "By Padraic McAtee and Tanay Trivedi \n",
        "\n",
        "#### Replication of the Paper:\n",
        "\n",
        "Ghoshal, S., & Roberts, S. J. (2018). Thresholded ConvNet Ensembles: Neural Networks for Technical Forecasting. arXiv preprint arXiv:1807.03192.\n"
      ]
    },
    {
      "metadata": {
        "id": "4Dc8KCeZ8RTW",
        "colab_type": "code",
        "outputId": "5e4063bf-8068-4904-bb9d-1658e3a26aa6",
        "colab": {
          "base_uri": "https://localhost:8080/",
          "height": 124
        }
      },
      "cell_type": "code",
      "source": [
        "from google.colab import drive\n",
        "drive.mount('/content/gdrive')"
      ],
      "execution_count": 2,
      "outputs": [
        {
          "output_type": "stream",
          "text": [
            "Go to this URL in a browser: https://accounts.google.com/o/oauth2/auth?client_id=947318989803-6bn6qk8qdgf4n4g3pfee6491hc0brc4i.apps.googleusercontent.com&redirect_uri=urn%3Aietf%3Awg%3Aoauth%3A2.0%3Aoob&scope=email%20https%3A%2F%2Fwww.googleapis.com%2Fauth%2Fdocs.test%20https%3A%2F%2Fwww.googleapis.com%2Fauth%2Fdrive%20https%3A%2F%2Fwww.googleapis.com%2Fauth%2Fdrive.photos.readonly%20https%3A%2F%2Fwww.googleapis.com%2Fauth%2Fpeopleapi.readonly&response_type=code\n",
            "\n",
            "Enter your authorization code:\n",
            "··········\n",
            "Mounted at /content/gdrive\n"
          ],
          "name": "stdout"
        }
      ]
    },
    {
      "metadata": {
        "id": "GtZcS0A_9s9h",
        "colab_type": "code",
        "colab": {}
      },
      "cell_type": "code",
      "source": [
        "import numpy as np\n",
        "import keras\n",
        "from keras.models import Sequential, Model\n",
        "from keras.layers import Input, Conv2D, Conv1D, Activation, Dense, Flatten, ThresholdedReLU, Dropout\n",
        "from keras.callbacks import ModelCheckpoint"
      ],
      "execution_count": 0,
      "outputs": []
    },
    {
      "metadata": {
        "id": "Gjo8tB_M9mtM",
        "colab_type": "code",
        "colab": {}
      },
      "cell_type": "code",
      "source": [
        "from keras.utils import to_categorical\n"
      ],
      "execution_count": 0,
      "outputs": []
    },
    {
      "metadata": {
        "id": "f3T5BYtL96pS",
        "colab_type": "text"
      },
      "cell_type": "markdown",
      "source": [
        "## Loading Data"
      ]
    },
    {
      "metadata": {
        "id": "xRr5-P_t9-x-",
        "colab_type": "code",
        "colab": {}
      },
      "cell_type": "code",
      "source": [
        "def loadz(fn):\n",
        "  with np.load(fn) as f:\n",
        "    return f['arr_0']\n",
        "\n",
        "\n",
        "test = loadz('gdrive/My Drive/tcnn_data/test.npz')\n",
        "test_x=test[:,1]\n",
        "test_y=test[:,2]\n",
        "assets=test[:,3]\n",
        "dates=test[:,0]\n",
        "train_x = loadz('gdrive/My Drive/tcnn_data/train_x_1.npz')\n",
        "train_y = loadz('gdrive/My Drive/tcnn_data/train_y_1.npz')\n",
        "\n",
        "train_y[train_y<0]=0\n",
        "cat_y=to_categorical(train_y)\n",
        "train_x = train_x.transpose([0,2,1])\n",
        "train_x = np.expand_dims(train_x,axis=3)\n",
        "\n",
        "trainLen = len(train_x)\n",
        "randomIdxs = np.arange(trainLen)\n",
        "np.random.shuffle(randomIdxs)\n",
        "\n",
        "cut = int(.9*trainLen)\n",
        "trainIdxs = randomIdxs[:cut]\n",
        "valIdxs = randomIdxs[cut:]\n",
        "\n",
        "val_x,val_y = train_x[valIdxs],cat_y[valIdxs] \n",
        "train_x,train_y = train_x[trainIdxs],cat_y[trainIdxs]"
      ],
      "execution_count": 0,
      "outputs": []
    },
    {
      "metadata": {
        "id": "jGAGNhPYA_Dv",
        "colab_type": "text"
      },
      "cell_type": "markdown",
      "source": [
        "## 3 Day Model\n",
        "\n",
        "Model Parameters"
      ]
    },
    {
      "metadata": {
        "id": "4_3k2FRhENkA",
        "colab_type": "code",
        "colab": {}
      },
      "cell_type": "code",
      "source": [
        "m = 3 # convolution temporal size (days)\n",
        "dropout = .5\n",
        "\n",
        "BATCH_SIZE = 10000\n",
        "NUM_EPOCHS = 75"
      ],
      "execution_count": 0,
      "outputs": []
    },
    {
      "metadata": {
        "id": "B07PtwYCLDyQ",
        "colab_type": "text"
      },
      "cell_type": "markdown",
      "source": [
        "Layers"
      ]
    },
    {
      "metadata": {
        "id": "Wg1Ycdv9wTRj",
        "colab_type": "code",
        "colab": {}
      },
      "cell_type": "code",
      "source": [
        "model = Sequential()\n",
        "model.add(Conv2D(8,input_shape = (4,20,1),kernel_size = (4,m),activation=\"relu\"))\n",
        "model.add(Dropout(rate=dropout))\n",
        "model.add(Flatten())\n",
        "model.add(Dense(units = 64,activation = 'relu'))\n",
        "model.add(Dropout(rate=dropout))\n",
        "model.add(Dense(units = 64,activation = 'relu'))\n",
        "model.add(Dropout(rate=dropout))\n",
        "model.add(Dense(units = 2,activation = 'softmax'))"
      ],
      "execution_count": 0,
      "outputs": []
    },
    {
      "metadata": {
        "id": "yTcCiB-kMueX",
        "colab_type": "text"
      },
      "cell_type": "markdown",
      "source": [
        "Training and Optimization Parameters"
      ]
    },
    {
      "metadata": {
        "id": "57j_8O_0Vq2Z",
        "colab_type": "text"
      },
      "cell_type": "markdown",
      "source": [
        "Compile and Train"
      ]
    },
    {
      "metadata": {
        "id": "oXN0P-G4MwnX",
        "colab_type": "code",
        "colab": {}
      },
      "cell_type": "code",
      "source": [
        "opt=keras.optimizers.Adam(lr=0.0005)\n",
        "model.compile(optimizer=\"adam\",\n",
        "              loss='binary_crossentropy',\n",
        "              metrics=['accuracy'])\n",
        "\n",
        "checkpoint = ModelCheckpoint(filepath=\"/content/gdrive/My Drive/midterm_checkpoints/model1_new_10k_relu_binary.h5\",\n",
        "                             monitor='val_acc',\n",
        "                             verbose=1,\n",
        "                             save_best_only=True,\n",
        "                             mode='auto')\n",
        "history = model.fit(train_x,\n",
        "                    train_y,\n",
        "                    epochs=NUM_EPOCHS,\n",
        "                    batch_size=BATCH_SIZE,\n",
        "                    validation_data=(val_x, val_y),\n",
        "                    verbose=False,\n",
        "                    callbacks=[checkpoint],shuffle=True)"
      ],
      "execution_count": 0,
      "outputs": []
    },
    {
      "metadata": {
        "id": "kEYimk7hE8HY",
        "colab_type": "code",
        "colab": {}
      },
      "cell_type": "code",
      "source": [
        "train_preds_3=model.predict(train_x)\n",
        "test_preds_3=model.predict(test_x)\n",
        "maxer=np.amax(train_preds_3,axis=1)\n",
        "\n",
        "train_preds_3=np.concatenate((train_preds_3,(maxer.reshape((-1,1)))),axis=1)\n",
        "thresh=np.linspace(0.5,0.6,9)\n",
        "x=thresh\n",
        "train_y = loadz('gdrive/My Drive/tcnn_data/train_y_1.npz')\n",
        "train_y[train_y<0]=0\n",
        "train_preds_3=np.concatenate((train_preds_3,train_y[trainIdxs].reshape(-1,1)),axis=1)\n",
        "outs_3=[]\n",
        "for i in thresh:\n",
        "  pred_i=train_preds_3[train_preds_3[:,2]>=i]\n",
        "  pred_class=1-np.argmax(pred_i[:,:2],axis=1)\n",
        "  outs_3.append(np.array([i,len(pred_class[pred_class==pred_i[:,3]])/float(len(pred_class)),len(pred_class)/float(len(train_preds_3))]))\n",
        "newss=np.concatenate((outs_3[:,1],abs((0.1-outs_3[:,2]).reshape(-1,1))),axis=1)\n",
        "closest=newss[newss[:,2].argsort()]\n",
        "cross_point=closest[0,0]\n",
        "import matplotlib.pyplot as plt\n",
        "outs_3=np.array(outs_3)\n"
      ],
      "execution_count": 0,
      "outputs": []
    },
    {
      "metadata": {
        "id": "ZgwdB34Lljtx",
        "colab_type": "code",
        "outputId": "94d13e40-4987-4c3f-80b2-06a9eeae73d9",
        "colab": {
          "base_uri": "https://localhost:8080/",
          "height": 364
        }
      },
      "cell_type": "code",
      "source": [
        "plt.scatter(outs_3[outs_3[:,1]==cross_point,0],cross_point,s=100,marker=\"x\",c=\"black\")\n",
        "plt.plot(x,outs_3[:,1])"
      ],
      "execution_count": 116,
      "outputs": [
        {
          "output_type": "execute_result",
          "data": {
            "text/plain": [
              "<matplotlib.collections.PathCollection at 0x7f969a4d1518>"
            ]
          },
          "metadata": {
            "tags": []
          },
          "execution_count": 116
        },
        {
          "output_type": "display_data",
          "data": {
            "image/png": "[encoded data removed]",
            "text/plain": [
              "<matplotlib.figure.Figure at 0x7f969a558e80>"
            ]
          },
          "metadata": {
            "tags": []
          }
        }
      ]
    },
    {
      "metadata": {
        "id": "TdDZqh6eMzIy",
        "colab_type": "text"
      },
      "cell_type": "markdown",
      "source": [
        "# 2 day Model"
      ]
    },
    {
      "metadata": {
        "colab_type": "code",
        "id": "owA7uhnxM7gv",
        "colab": {}
      },
      "cell_type": "code",
      "source": [
        "m = 2 # convolution temporal size (days)\n",
        "dropout = .5\n",
        "\n",
        "BATCH_SIZE = 10000\n",
        "NUM_EPOCHS = 75"
      ],
      "execution_count": 0,
      "outputs": []
    },
    {
      "metadata": {
        "colab_type": "text",
        "id": "Xo5qd-WOM7gy"
      },
      "cell_type": "markdown",
      "source": [
        "Layers"
      ]
    },
    {
      "metadata": {
        "colab_type": "code",
        "id": "35eAGXXOM7gy",
        "colab": {}
      },
      "cell_type": "code",
      "source": [
        "model = Sequential()\n",
        "model.add(Conv2D(32,input_shape = (4,20,1),kernel_size = (4,m),activation=\"relu\"))\n",
        "model.add(Dropout(rate=dropout))\n",
        "model.add(Flatten())\n",
        "model.add(Dense(units = 64,activation = 'relu'))\n",
        "model.add(Dropout(rate=dropout))\n",
        "model.add(Dense(units = 64,activation = 'relu'))\n",
        "model.add(Dropout(rate=dropout))\n",
        "model.add(Dense(units = 2,activation = 'softmax'))"
      ],
      "execution_count": 0,
      "outputs": []
    },
    {
      "metadata": {
        "colab_type": "text",
        "id": "ZKZQlJCHM7g2"
      },
      "cell_type": "markdown",
      "source": [
        "Training and Optimization Parameters"
      ]
    },
    {
      "metadata": {
        "colab_type": "text",
        "id": "rxnvhQsqM7g2"
      },
      "cell_type": "markdown",
      "source": [
        "Compile and Train"
      ]
    },
    {
      "metadata": {
        "colab_type": "code",
        "id": "0oCKd_zMM7g2",
        "colab": {}
      },
      "cell_type": "code",
      "source": [
        "opt=keras.optimizers.Adam(lr=0.0005)\n",
        "model.compile(optimizer=opt,\n",
        "              loss='binary_crossentropy',\n",
        "              metrics=['accuracy'])\n",
        "\n",
        "checkpoint = ModelCheckpoint(filepath=\"/content/gdrive/My Drive/midterm_checkpoints/model1_new_10k_relu_binary_2day.h5\",\n",
        "                             monitor='val_acc',\n",
        "                             verbose=1,\n",
        "                             save_best_only=True,\n",
        "                             mode='auto')\n",
        "history = model.fit(train_x,\n",
        "                    train_y,\n",
        "                    epochs=NUM_EPOCHS,\n",
        "                    batch_size=BATCH_SIZE,\n",
        "                    validation_data=(val_x, val_y),\n",
        "                    verbose=False,\n",
        "                    callbacks=[checkpoint],shuffle=True)"
      ],
      "execution_count": 0,
      "outputs": []
    },
    {
      "metadata": {
        "colab_type": "code",
        "id": "dmD-ugM7M7g6",
        "colab": {}
      },
      "cell_type": "code",
      "source": [
        "train_preds_2=model.predict(train_x)\n",
        "test_preds_2=model.predict(test_x)\n",
        "maxer=np.amax(train_preds_2,axis=1)\n",
        "\n",
        "train_preds_2=np.concatenate((train_preds_2,(maxer.reshape((-1,1)))),axis=1)\n",
        "train_y = loadz('gdrive/My Drive/tcnn_data/train_y_1.npz')\n",
        "train_y[train_y<0]=0\n",
        "train_preds_2=np.concatenate((train_preds_2,train_y[trainIdxs].reshape(-1,1)),axis=1)\n",
        "outs_2=[]\n",
        "for i in thresh:\n",
        "  pred_i=train_preds_2[train_preds_2[:,2]>=i]\n",
        "  pred_class=np.argmax(pred_i[:,:2],axis=1)\n",
        "  outs_2.append(np.array([i,len(pred_class[pred_class==pred_i[:,3]])/float(len(pred_class)),len(pred_class)/float(len(train_preds_2))]))\n",
        "newss=np.concatenate((outs_2[:,1],abs((0.1-outs_2[:,2]).reshape(-1,1))),axis=1)\n",
        "closest=newss[newss[:,2].argsort()]\n",
        "cross_point_2=closest[0,0]"
      ],
      "execution_count": 0,
      "outputs": []
    },
    {
      "metadata": {
        "colab_type": "code",
        "outputId": "796d55ca-f38e-40dd-fd9f-3a6ac633843d",
        "id": "e82EFqSFM7hj",
        "colab": {
          "base_uri": "https://localhost:8080/",
          "height": 364
        }
      },
      "cell_type": "code",
      "source": [
        "plt.scatter(outs_3[outs_3[:,1]==cross_point,0],cross_point,s=100,marker=\"x\",c=\"black\")\n",
        "plt.scatter(outs_2[outs_2[:,1]==cross_point_2,0],cross_point_2,s=100,marker=\"x\",c=\"black\")\n",
        "plt.plot(x,outs_3,x,outs_2)"
      ],
      "execution_count": 118,
      "outputs": [
        {
          "output_type": "execute_result",
          "data": {
            "text/plain": [
              "<matplotlib.collections.PathCollection at 0x7f969a465358>"
            ]
          },
          "metadata": {
            "tags": []
          },
          "execution_count": 118
        },
        {
          "output_type": "display_data",
          "data": {
            "image/png": "[encoded data removed]",
            "text/plain": [
              "<matplotlib.figure.Figure at 0x7f969a4659b0>"
            ]
          },
          "metadata": {
            "tags": []
          }
        }
      ]
    },
    {
      "metadata": {
        "colab_type": "text",
        "id": "bcRg5FhEcsit"
      },
      "cell_type": "markdown",
      "source": [
        "# 1 day Model"
      ]
    },
    {
      "metadata": {
        "colab_type": "code",
        "id": "tCc-KrYAcsiw",
        "colab": {}
      },
      "cell_type": "code",
      "source": [
        "m = 1 # convolution temporal size (days)\n",
        "dropout = .5\n",
        "\n",
        "BATCH_SIZE = 10000\n",
        "NUM_EPOCHS = 75"
      ],
      "execution_count": 0,
      "outputs": []
    },
    {
      "metadata": {
        "colab_type": "text",
        "id": "kJGtO1Nicsix"
      },
      "cell_type": "markdown",
      "source": [
        "Layers"
      ]
    },
    {
      "metadata": {
        "colab_type": "code",
        "id": "rFcXvSyIcsiy",
        "colab": {}
      },
      "cell_type": "code",
      "source": [
        "model = Sequential()\n",
        "model.add(Conv2D(8,input_shape = (4,20,1),kernel_size = (4,m),activation=\"relu\"))\n",
        "model.add(Dropout(rate=dropout))\n",
        "model.add(Flatten())\n",
        "model.add(Dense(units = 64,activation = 'relu'))\n",
        "model.add(Dropout(rate=dropout))\n",
        "model.add(Dense(units = 64,activation = 'relu'))\n",
        "model.add(Dropout(rate=dropout))\n",
        "model.add(Dense(units = 2,activation = 'softmax'))"
      ],
      "execution_count": 0,
      "outputs": []
    },
    {
      "metadata": {
        "colab_type": "code",
        "id": "Ro6BAXJUcsi1",
        "colab": {}
      },
      "cell_type": "code",
      "source": [
        "opt=keras.optimizers.Adam(lr=0.0005)\n",
        "model.compile(optimizer=opt,\n",
        "              loss='binary_crossentropy',\n",
        "              metrics=['accuracy'])\n",
        "\n",
        "checkpoint = ModelCheckpoint(filepath=\"/content/gdrive/My Drive/midterm_checkpoints/model1_new_10k_relu_binary_1day.h5\",\n",
        "                             monitor='val_acc',\n",
        "                             verbose=1,\n",
        "                             save_best_only=True,\n",
        "                             mode='auto')\n",
        "history = model.fit(train_x,\n",
        "                    train_y,\n",
        "                    epochs=NUM_EPOCHS,\n",
        "                    batch_size=BATCH_SIZE,\n",
        "                    validation_data=(val_x, val_y),\n",
        "                    verbose=False,\n",
        "                    callbacks=[checkpoint],shuffle=True)"
      ],
      "execution_count": 0,
      "outputs": []
    },
    {
      "metadata": {
        "id": "r_blgbziZGEG",
        "colab_type": "code",
        "colab": {}
      },
      "cell_type": "code",
      "source": [
        "test_preds_1=model.predict(test_x)\n",
        "train_preds_1=model.predict(train_x)\n",
        "maxer=np.amax(train_preds_1,axis=1)\n",
        "\n",
        "train_preds_1=np.concatenate((train_preds_1,(maxer.reshape((-1,1)))),axis=1)\n",
        "train_y = loadz('gdrive/My Drive/tcnn_data/train_y_1.npz')\n",
        "train_y[train_y<0]=0\n",
        "train_preds_1=np.concatenate((train_preds_1,train_y[trainIdxs].reshape(-1,1)),axis=1)\n",
        "outs_1=[]\n",
        "for i in thresh:\n",
        "  pred_i=train_preds_1[train_preds_1[:,2]>=i]\n",
        "  pred_class=np.argmax(pred_i[:,:2],axis=1)\n",
        "  try:\n",
        "    outs_1.append(np.array([i,len(pred_class[pred_class==pred_i[:,3]])/float(len(pred_class)),len(pred_class)/float(len(train_preds_1))]))\n",
        "  except:\n",
        "    break\n",
        "newss=np.concatenate((outs_1[:,1],abs((0.1-outs_1[:,2]).reshape(-1,1))),axis=1)\n",
        "closest=newss[newss[:,2].argsort()]\n",
        "cross_point_1=closest[0,0]\n",
        "import matplotlib.pyplot as plt"
      ],
      "execution_count": 0,
      "outputs": []
    },
    {
      "metadata": {
        "colab_type": "code",
        "outputId": "a7d0277a-0ca6-4fe8-e1f3-8a7eb9d47352",
        "id": "FrtZDy0XcskA",
        "colab": {
          "base_uri": "https://localhost:8080/",
          "height": 400
        }
      },
      "cell_type": "code",
      "source": [
        "plt.scatter(outs_3[outs_3[:,1]==cross_point,0],cross_point,s=100,marker=\"x\",c=\"black\")\n",
        "plt.scatter(outs_2[outs_2[:,1]==cross_point_2,0],cross_point_2,s=100,marker=\"x\",c=\"black\")\n",
        "plt.scatter(outs_1[outs_1[:,1]==cross_point_1,0],cross_point_1,s=100,marker=\"x\",c=\"black\")\n",
        "plt.plot(x,outs_3,x,outs_2,x,outs_1)"
      ],
      "execution_count": 120,
      "outputs": [
        {
          "output_type": "execute_result",
          "data": {
            "text/plain": [
              "[<matplotlib.lines.Line2D at 0x7f969a19dfd0>,\n",
              " <matplotlib.lines.Line2D at 0x7f969a1b2278>,\n",
              " <matplotlib.lines.Line2D at 0x7f969a1b27b8>]"
            ]
          },
          "metadata": {
            "tags": []
          },
          "execution_count": 120
        },
        {
          "output_type": "display_data",
          "data": {
            "image/png": "[encoded data removed]",
            "text/plain": [
              "<matplotlib.figure.Figure at 0x7f969a616f60>"
            ]
          },
          "metadata": {
            "tags": []
          }
        }
      ]
    },
    {
      "metadata": {
        "id": "u1AQj1qhpP4W",
        "colab_type": "text"
      },
      "cell_type": "markdown",
      "source": [
        "# Ensemble"
      ]
    },
    {
      "metadata": {
        "id": "-IHN8qxxtiwh",
        "colab_type": "code",
        "colab": {}
      },
      "cell_type": "code",
      "source": [
        "ensemble_preds=[]\n",
        "for i in range(len(train_preds_1)):\n",
        "  ensemble_preds.append(np.mean((train_preds_1[i,:2],train_preds_2[i,:2],train_preds_3[i,:2]),axis=0))\n",
        "ensemble_preds=np.array(ensemble_preds)"
      ],
      "execution_count": 0,
      "outputs": []
    },
    {
      "metadata": {
        "id": "cHeSsyHUuU5o",
        "colab_type": "code",
        "colab": {}
      },
      "cell_type": "code",
      "source": [
        "maxer=np.amax(ensemble_preds,axis=1)\n",
        "ensemble_preds=np.concatenate((ensemble_preds,(maxer.reshape((-1,1)))),axis=1)\n",
        "train_y = loadz('gdrive/My Drive/tcnn_data/train_y_1.npz')\n",
        "train_y[train_y<0]=0\n",
        "ensemble_preds=np.concatenate((ensemble_preds,train_y[trainIdxs].reshape(-1,1)),axis=1)"
      ],
      "execution_count": 0,
      "outputs": []
    },
    {
      "metadata": {
        "id": "oELvC7HztitM",
        "colab_type": "code",
        "colab": {}
      },
      "cell_type": "code",
      "source": [
        "outs_ensemble=[]\n",
        "for i in thresh:\n",
        "  pred_i=ensemble_preds[ensemble_preds[:,2]>=i]\n",
        "  pred_class=np.argmax(pred_i[:,:2],axis=1)\n",
        "  try:\n",
        "    outs_ensemble.append(np.array([i,len(pred_class[pred_class==pred_i[:,3]])/float(len(pred_class)),len(pred_class)/float(len(ensemble_preds))]))\n",
        "  except:\n",
        "    break"
      ],
      "execution_count": 0,
      "outputs": []
    },
    {
      "metadata": {
        "id": "5JY0Z0ZgBMtB",
        "colab_type": "code",
        "colab": {}
      },
      "cell_type": "code",
      "source": [
        "newss=np.concatenate((outs_ensemble[:,1],abs((0.1-outs_ensemble[:,2]).reshape(-1,1))),axis=1)\n",
        "closest=newss[newss[:,2].argsort()]\n",
        "cross_point_ensemble=closest[0,0]"
      ],
      "execution_count": 0,
      "outputs": []
    },
    {
      "metadata": {
        "id": "N9Nkf4h5h0J0",
        "colab_type": "text"
      },
      "cell_type": "markdown",
      "source": [
        "# Figure 6 in the Original Paper"
      ]
    },
    {
      "metadata": {
        "id": "gWbniM8AsiMO",
        "colab_type": "code",
        "outputId": "953a10e9-c994-459e-cd36-ada8fcd91a43",
        "colab": {
          "base_uri": "https://localhost:8080/",
          "height": 364
        }
      },
      "cell_type": "code",
      "source": [
        "plt.plot(x,outs_3,label=\"3-day CNN\")\n",
        "plt.plot(x,outs_2,label=\"2-day CNN\")\n",
        "plt.plot(x,outs_1,label=\"1-day CNN\")\n",
        "plt.plot(x,outs_ensemble,label=\"Ensemble\")\n",
        "\n",
        "plt.scatter(outs_3[outs_3[:,1]==cross_point,0],cross_point,s=100,marker=\"x\",c=\"black\")\n",
        "plt.scatter(outs_2[outs_2[:,1]==cross_point_2,0],cross_point_2,s=100,marker=\"x\",c=\"black\")\n",
        "plt.scatter(outs_1[outs_1[:,1]==cross_point_1,0],cross_point_3,s=100,marker=\"x\",c=\"black\")\n",
        "plt.scatter(outs_ensemble[outs_ensemble[:,1]==cross_point_ensemble,0],cross_point_ensemble,s=100,marker=\"x\",c=\"black\")\n",
        "\n",
        "plt.legend()"
      ],
      "execution_count": 123,
      "outputs": [
        {
          "output_type": "execute_result",
          "data": {
            "text/plain": [
              "<matplotlib.legend.Legend at 0x7f969a6359b0>"
            ]
          },
          "metadata": {
            "tags": []
          },
          "execution_count": 123
        },
        {
          "output_type": "display_data",
          "data": {
            "image/png": "[encoded data removed]",
            "text/plain": [
              "<matplotlib.figure.Figure at 0x7f969a192898>"
            ]
          },
          "metadata": {
            "tags": []
          }
        }
      ]
    },
    {
      "metadata": {
        "id": "VmcCvHL5wFg7",
        "colab_type": "text"
      },
      "cell_type": "markdown",
      "source": [
        "# Cumulative Return"
      ]
    },
    {
      "metadata": {
        "id": "W8MYZ8LcZo9N",
        "colab_type": "code",
        "colab": {}
      },
      "cell_type": "code",
      "source": [
        "import matplotlib.pyplot as plt"
      ],
      "execution_count": 0,
      "outputs": []
    },
    {
      "metadata": {
        "id": "6FRTCtppZ_2S",
        "colab_type": "code",
        "colab": {}
      },
      "cell_type": "code",
      "source": [
        "ref={\"1-day\":test_preds_1,\"2-day\":test_preds_2,\"3-day\":test_preds_3,\"ensemble\":ensemble_preds}\n",
        "\n",
        "returns={}\n",
        "for i in ref.keys():\n",
        "  #concat date and predictions together\n",
        "  preds=ref[i]\n",
        "  preds=np.concatenate((dates,test_y,preds),axis=1)\n",
        "  #select predictions within threshold\n",
        "  maxer=np.amax(preds[:,-2:],axis=1)\n",
        "  preds=np.concatenate((preds,(maxer.reshape((-1,1)))),axis=1)\n",
        "  if i== \"1-day\":\n",
        "    preds=preds[preds[:,-1]>=cross_point_1]\n",
        "  elif i==\"2-day\":\n",
        "    preds=preds[preds[:,-1]>=cross_point_2]\n",
        "  elif i==\"3-day\":\n",
        "    preds=preds[preds[:,-1]>=cross_point]\n",
        "  else:\n",
        "    preds=preds[preds[:,-1]>=cross_point_ensemble]\n",
        "  pred_class=np.argmax(preds[:,-3:-1],axis=1)\n",
        "  #add a dictionary to returns (key it with ) with keys dates and values list appending returns*prediction sign\n",
        "  un_orderd=preds[:,1]*pred_class\n",
        "  unique_dates=np.unique(preds[:,0])\n",
        "  rets = {k: [] for k in list(unique_dates)}\n",
        "  un_ordered=np.concatenate((preds[:,0],un_ordered),axis=1)\n",
        "  for j in range(len(un_ordered)):\n",
        "    rets[un_ordered[j,0]].append(un_ordered[j,1])\n",
        "  for j in list(rets.keys()):\n",
        "    rets[j]=np.mean(np.array(rets[j]))\n",
        "  returns[i]= pd.Series(list(rets.values()),index=pd.MultiIndex.from_tuples(rets.keys()))"
      ],
      "execution_count": 0,
      "outputs": []
    },
    {
      "metadata": {
        "id": "rSsVH10Rh8Ek",
        "colab_type": "text"
      },
      "cell_type": "markdown",
      "source": [
        "# Figure 8 in the Original Paper"
      ]
    },
    {
      "metadata": {
        "id": "2mAKmMHHEvOY",
        "colab_type": "code",
        "colab": {
          "base_uri": "https://localhost:8080/",
          "height": 368
        },
        "outputId": "63ef22e2-190f-4ecf-b2f7-121b17e8c289"
      },
      "cell_type": "code",
      "source": [
        "fig, ax = plt.subplots()\n",
        "ax.plot(returns[\"ensemble\"],c=\"black\",label=\"TCNN Ensemble\")\n",
        "ax.plot(returns[\"1-day\"],c=\"orange\",label=\"1-day TCNN\")\n",
        "ax.plot(returns[\"2-day\"],c=\"red\",label=\"2-day TCNN\")\n",
        "ax.plot(returns[\"3-day\"],c=\"green\",label=\"3-day TCNN\")\n",
        "\n",
        "ax.set_ylim(top=60)\n",
        "ax.set_xlim(right=11*252)\n",
        "ax.xaxis.set_major_locator(plt.MultipleLocator(252))\n",
        "ax.xaxis.set_major_formatter(mticker.FuncFormatter(update_ticks))\n",
        "ax.legend()"
      ],
      "execution_count": 104,
      "outputs": [
        {
          "output_type": "execute_result",
          "data": {
            "text/plain": [
              "<matplotlib.legend.Legend at 0x7f969a49d470>"
            ]
          },
          "metadata": {
            "tags": []
          },
          "execution_count": 104
        },
        {
          "output_type": "display_data",
          "data": {
            "image/png": "[encoded data removed]",
            "text/plain": [
              "<matplotlib.figure.Figure at 0x7f9699fc6978>"
            ]
          },
          "metadata": {
            "tags": []
          }
        }
      ]
    },
    {
      "metadata": {
        "id": "UkRpUHVkFapH",
        "colab_type": "code",
        "colab": {}
      },
      "cell_type": "code",
      "source": [
        ""
      ],
      "execution_count": 0,
      "outputs": []
    }
  ]
}